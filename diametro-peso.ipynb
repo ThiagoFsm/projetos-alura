{
  "nbformat": 4,
  "nbformat_minor": 0,
  "metadata": {
    "colab": {
      "provenance": [],
      "authorship_tag": "ABX9TyObZ3qss1b3mOMH5MFWJB6l",
      "include_colab_link": true
    },
    "kernelspec": {
      "name": "python3",
      "display_name": "Python 3"
    },
    "language_info": {
      "name": "python"
    }
  },
  "cells": [
    {
      "cell_type": "markdown",
      "metadata": {
        "id": "view-in-github",
        "colab_type": "text"
      },
      "source": [
        "<a href=\"https://colab.research.google.com/github/ThiagoFsm/projetos-alura/blob/main/diametro-peso.ipynb\" target=\"_parent\"><img src=\"https://colab.research.google.com/assets/colab-badge.svg\" alt=\"Open In Colab\"/></a>"
      ]
    },
    {
      "cell_type": "code",
      "source": [
        "import numpy as np"
      ],
      "metadata": {
        "id": "raijwqbGpXR4"
      },
      "execution_count": null,
      "outputs": []
    },
    {
      "cell_type": "code",
      "source": [
        "url = 'https://raw.githubusercontent.com/allanspadini/numpy/dados/citrus.csv'"
      ],
      "metadata": {
        "id": "EyE4ilvWqzxA"
      },
      "execution_count": null,
      "outputs": []
    },
    {
      "cell_type": "code",
      "source": [
        "dado = np.loadtxt(url, delimiter=',', skiprows=1, usecols=np.arange(1, 3, 1))"
      ],
      "metadata": {
        "id": "x5iioYwJy276"
      },
      "execution_count": null,
      "outputs": []
    },
    {
      "cell_type": "code",
      "source": [
        "dado_transposto = dado.T\n",
        "dado_transposto"
      ],
      "metadata": {
        "colab": {
          "base_uri": "https://localhost:8080/"
        },
        "id": "jeedrhQ1y-pq",
        "outputId": "d948187f-a97b-4eef-8323-fdd959491c77"
      },
      "execution_count": null,
      "outputs": [
        {
          "output_type": "execute_result",
          "data": {
            "text/plain": [
              "array([[  2.96,   3.91,   4.42, ...,  15.59,  15.92,  16.45],\n",
              "       [ 86.76,  88.05,  95.17, ..., 256.5 , 260.14, 261.51]])"
            ]
          },
          "metadata": {},
          "execution_count": 7
        }
      ]
    },
    {
      "cell_type": "code",
      "source": [
        "diametro_laranja = dado_transposto[0, :5000]\n",
        "diametro_toranja = dado_transposto[0, 5000:]\n",
        "peso_laranja = dado_transposto[1, :5000]\n",
        "peso_toranja = dado_transposto[1, 5000:]"
      ],
      "metadata": {
        "id": "xHhjSPwii8Q8"
      },
      "execution_count": null,
      "outputs": []
    },
    {
      "cell_type": "code",
      "source": [
        "print(diametro_laranja)\n",
        "print(peso_laranja)"
      ],
      "metadata": {
        "colab": {
          "base_uri": "https://localhost:8080/"
        },
        "id": "my8eWHFstAmU",
        "outputId": "abbbc0fe-501c-45fc-e257-ed2181d152d7"
      },
      "execution_count": null,
      "outputs": [
        {
          "output_type": "stream",
          "name": "stdout",
          "text": [
            "[ 2.96  3.91  4.42 ... 12.55 12.75 12.87]\n",
            "[ 86.76  88.05  95.17 ... 218.07 230.13 231.09]\n"
          ]
        }
      ]
    },
    {
      "cell_type": "code",
      "source": [
        "print(diametro_toranja)\n",
        "print(peso_toranja)"
      ],
      "metadata": {
        "colab": {
          "base_uri": "https://localhost:8080/"
        },
        "id": "KwKLATqXt6gJ",
        "outputId": "24a54989-3cfc-48d2-f930-e8a6339c98bd"
      },
      "execution_count": null,
      "outputs": [
        {
          "output_type": "stream",
          "name": "stdout",
          "text": [
            "[ 7.63  7.69  7.72 ... 15.59 15.92 16.45]\n",
            "[126.79 133.98 135.56 ... 256.5  260.14 261.51]\n"
          ]
        }
      ]
    },
    {
      "cell_type": "code",
      "source": [
        "import matplotlib.pyplot as plt"
      ],
      "metadata": {
        "id": "ISP7CqKmuE6T"
      },
      "execution_count": null,
      "outputs": []
    },
    {
      "cell_type": "code",
      "source": [
        "plt.plot(diametro_laranja, peso_laranja)\n",
        "plt.plot(diametro_toranja, peso_toranja)\n",
        "plt.legend(['Laranja', 'Toranja'])\n",
        "plt.xlabel('Diametro')\n",
        "plt.ylabel('Peso')\n",
        "plt.title('Peso x Diametro')\n",
        "plt.show()"
      ],
      "metadata": {
        "colab": {
          "base_uri": "https://localhost:8080/",
          "height": 472
        },
        "id": "b7R4dxn2urr2",
        "outputId": "615fbe63-83c5-46e0-d3f2-28d8bb467a0f"
      },
      "execution_count": null,
      "outputs": [
        {
          "output_type": "display_data",
          "data": {
            "text/plain": [
              "<Figure size 640x480 with 1 Axes>"
            ],
            "image/png": "[encoded data removed]"
          },
          "metadata": {}
        }
      ]
    }
  ]
}